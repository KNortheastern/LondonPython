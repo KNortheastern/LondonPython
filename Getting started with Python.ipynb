{
 "cells": [
  {
   "cell_type": "markdown",
   "id": "c50dbe46",
   "metadata": {},
   "source": [
    "<div class=\"alert alert-block alert-info\">\n",
    "<b>What is this web page?</b>\n",
    "<br>This is an interactive web page called a Jupyter Notebook created for the \"Getting started with Python\" workshop at Northeastern University. It contains interactive boxes where you can write and run Python code. The boxes look like this:\n",
    "<br><img style=\"display:inline-block; margin-top:0px\" src=\"Images/Screenshot_CodeCell.png\"/>\n",
    "<br>You can type code in these boxes by clicking on them and typing your desired code. You can then run the code by pressing the \"Run cell\" button (<img style=\"display:inline-block; margin-top:0px\" src=\"Images/Screenshot_Buttons_Run.png\" width=\"40px\"/>). To learn more about how to use Jupyter Notebooks, check out this <a href=\"https://constellate.org/tutorials/getting-started-with-jupyter\">tutorial on Jupyter Notebooks</a>.\n",
    "</div>"
   ]
  },
  {
   "cell_type": "markdown",
   "id": "0cbe3a05",
   "metadata": {},
   "source": [
    "# What does Python code look like?\n",
    "Python code has two parts:\n",
    "1. Comments\n",
    "2. Code\n",
    "\n",
    "Take a look at the example below. The ```#``` symbol denotes a comment, which contains explanatory notes for us as the reader. The ```1 + 1``` is the actual code and contains the instructions for the computer."
   ]
  },
  {
   "cell_type": "code",
   "execution_count": 1,
   "id": "d1979eea",
   "metadata": {},
   "outputs": [
    {
     "data": {
      "text/plain": [
       "2"
      ]
     },
     "execution_count": 1,
     "metadata": {},
     "output_type": "execute_result"
    }
   ],
   "source": [
    "# this is a comment\n",
    "1 + 1"
   ]
  },
  {
   "cell_type": "markdown",
   "id": "5006ed56",
   "metadata": {},
   "source": [
    "To learn more about comments, check out this [tutorial on comments](https://www.w3schools.com/python/python_comments.asp)."
   ]
  }
 ],
 "metadata": {
  "kernelspec": {
   "display_name": "Python 3 (ipykernel)",
   "language": "python",
   "name": "python3"
  },
  "language_info": {
   "codemirror_mode": {
    "name": "ipython",
    "version": 3
   },
   "file_extension": ".py",
   "mimetype": "text/x-python",
   "name": "python",
   "nbconvert_exporter": "python",
   "pygments_lexer": "ipython3",
   "version": "3.9.2"
  },
  "toc": {
   "base_numbering": 1,
   "nav_menu": {},
   "number_sections": false,
   "sideBar": true,
   "skip_h1_title": false,
   "title_cell": "Table of Contents",
   "title_sidebar": "Contents",
   "toc_cell": false,
   "toc_position": {
    "height": "calc(100% - 180px)",
    "left": "10px",
    "top": "150px",
    "width": "165px"
   },
   "toc_section_display": true,
   "toc_window_display": true
  }
 },
 "nbformat": 4,
 "nbformat_minor": 5
}
